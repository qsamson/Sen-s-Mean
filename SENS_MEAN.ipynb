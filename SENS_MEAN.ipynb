{
  "nbformat": 4,
  "nbformat_minor": 0,
  "metadata": {
    "colab": {
      "name": "SENS MEAN.ipynb",
      "provenance": []
    },
    "kernelspec": {
      "name": "python3",
      "display_name": "Python 3"
    },
    "language_info": {
      "name": "python"
    }
  },
  "cells": [
    {
      "cell_type": "code",
      "execution_count": null,
      "metadata": {
        "id": "J65yJk-wOni4"
      },
      "outputs": [],
      "source": [
        "#The Sens mean uses special packages in this operation\n",
        "#Without running this, the code would not work because\n",
        "#The package was installed in a python environment from R\n",
        "\n",
        "%load_ext rpy2.ipython"
      ]
    },
    {
      "cell_type": "code",
      "source": [
        "%%R\n",
        "install.packages(\"lmomco\")\n",
        "library(\"lmomco\")\n",
        "fake.dat <-c(123, 34, 4, 654, 37, 78)\n",
        "df0 <- read.csv(file = 'Book1diseased.csv')\n",
        "df1 <- read.csv(file = 'Book1notdiseased.csv')\n",
        "\n",
        "sen1 <- sen.mean(df0[7]);\n",
        "sen2 <- sen.mean(df0[5]);\n",
        "\n",
        "#   list1 <- append(list1, sen)\n",
        "x <- c(sen1,sen2)\n",
        "\n",
        "print(x)\n",
        "\n"
      ],
      "metadata": {
        "colab": {
          "base_uri": "https://localhost:8080/"
        },
        "id": "o6AGjDGQO0S4",
        "outputId": "67d71bac-1012-4401-98fc-c2533d3bb4b3"
      },
      "execution_count": null,
      "outputs": [
        {
          "output_type": "stream",
          "name": "stdout",
          "text": [
            "$sen\n",
            "[1] 26.0831\n",
            "\n",
            "$source\n",
            "[1] \"sen.mean\"\n",
            "\n",
            "$sen\n",
            "[1] 25.0013\n",
            "\n",
            "$source\n",
            "[1] \"sen.mean\"\n",
            "\n"
          ]
        }
      ]
    },
    {
      "cell_type": "code",
      "source": [
        "x = [26.0831,25.0013 ]\n",
        "26.0831 - 25.0013 "
      ],
      "metadata": {
        "colab": {
          "base_uri": "https://localhost:8080/"
        },
        "id": "A9PVu6zj7zrY",
        "outputId": "3ad9541c-2c6c-413f-adc0-28d2ab9b5579"
      },
      "execution_count": null,
      "outputs": [
        {
          "output_type": "execute_result",
          "data": {
            "text/plain": [
              "1.0818000000000012"
            ]
          },
          "metadata": {},
          "execution_count": 25
        }
      ]
    },
    {
      "cell_type": "code",
      "source": [
        "import numpy as np\n",
        "import pandas as pd\n",
        "import pandas.util.testing as tm\n",
        "from statsmodels.robust.scale import huber\n",
        "import array as arr\n",
        "from scipy.stats import cauchy\n",
        "import matplotlib.pyplot as plt\n",
        "from sklearn.metrics import roc_curve,auc\n",
        "from scipy.stats import wilcoxon\n",
        "from scipy import stats\n",
        "from scipy.stats.mstats import winsorize"
      ],
      "metadata": {
        "colab": {
          "base_uri": "https://localhost:8080/"
        },
        "id": "TFI52uhd8I0W",
        "outputId": "5e65ab24-c35e-414e-8d61-35c1d0a92b99"
      },
      "execution_count": null,
      "outputs": [
        {
          "output_type": "stream",
          "name": "stderr",
          "text": [
            "/usr/local/lib/python3.7/dist-packages/ipykernel_launcher.py:3: FutureWarning: pandas.util.testing is deprecated. Use the functions in the public API at pandas.testing instead.\n",
            "  This is separate from the ipykernel package so we can avoid doing imports until\n"
          ]
        }
      ]
    },
    {
      "cell_type": "code",
      "source": [
        "rdiseased = cauchy.rvs(loc = x[0], scale =1, size=100)\n",
        "rdiseased"
      ],
      "metadata": {
        "id": "QVENCOMm8A0p"
      },
      "execution_count": null,
      "outputs": []
    },
    {
      "cell_type": "code",
      "source": [
        "rnotdiseased = cauchy.rvs(loc = x[1], scale =1, size=100)\n",
        "rnotdiseased"
      ],
      "metadata": {
        "id": "VXu4ANfa8sgl"
      },
      "execution_count": null,
      "outputs": []
    },
    {
      "cell_type": "code",
      "source": [
        "def plot_roc(y_test,probs):\n",
        "    fpr,tpr,threshold=roc_curve(y_test,probs)\n",
        "    roc_auc=auc(fpr,tpr)\n",
        "    print('ROC AUC=%0.2f'%roc_auc)\n",
        "    plt.plot(fpr,tpr,label='AUC=%0.2f'%roc_auc,color='darkorange')\n",
        "    plt.legend(loc='lower right')\n",
        "    plt.plot([0,1],[0,1],'b--')\n",
        "    plt.xlim([0,1])\n",
        "    plt.ylim([0,1.05])\n",
        "    plt.xlabel('False Positive Rate')\n",
        "    plt.ylabel('True Positive Rate')\n",
        "    plt.show()"
      ],
      "metadata": {
        "id": "WRpsplc--ZLy"
      },
      "execution_count": null,
      "outputs": []
    },
    {
      "cell_type": "code",
      "source": [
        "import pandas as pd\n",
        "import numpy as np\n",
        "from sklearn.model_selection import train_test_split\n",
        "from sklearn.linear_model import LogisticRegression\n",
        "from sklearn import metrics\n",
        "import matplotlib.pyplot as plt"
      ],
      "metadata": {
        "id": "vEhgURNm-bKM"
      },
      "execution_count": null,
      "outputs": []
    },
    {
      "cell_type": "code",
      "source": [
        "data = pd.read_csv('Senn.csv')\n",
        "data"
      ],
      "metadata": {
        "id": "D5FicgEJ-cpg"
      },
      "execution_count": null,
      "outputs": []
    },
    {
      "cell_type": "code",
      "source": [
        "X = data[['Senn1', 'Senn2']]\n",
        "y = data['Outcome']\n",
        "\n",
        "#split the dataset into training (70%) and testing (30%) sets\n",
        "X_train,X_test,y_train,y_test = train_test_split(X,y,test_size=0.3,random_state=0) \n",
        "\n",
        "#instantiate the model\n",
        "log_regression = LogisticRegression()\n",
        "\n",
        "#fit the model using the training data\n",
        "log_regression.fit(X_train,y_train)"
      ],
      "metadata": {
        "colab": {
          "base_uri": "https://localhost:8080/"
        },
        "id": "NoU_NNlC-rQo",
        "outputId": "864f2559-5622-4b0d-d55e-5a67c6290f72"
      },
      "execution_count": null,
      "outputs": [
        {
          "output_type": "execute_result",
          "data": {
            "text/plain": [
              "LogisticRegression()"
            ]
          },
          "metadata": {},
          "execution_count": 29
        }
      ]
    },
    {
      "cell_type": "code",
      "source": [
        "#define metrics\n",
        "y_pred_proba = log_regression.predict_proba(X_test)[::,1]\n",
        "fpr, tpr, _ = metrics.roc_curve(y_test,  y_pred_proba)\n",
        "\n",
        "#create ROC curve\n",
        "plt.plot(fpr,tpr)\n",
        "plt.ylabel('True Positive Rate')\n",
        "plt.xlabel('False Positive Rate')\n",
        "plt.grid()\n",
        "plt.show()"
      ],
      "metadata": {
        "colab": {
          "base_uri": "https://localhost:8080/",
          "height": 278
        },
        "id": "vLlPRvuO-w1N",
        "outputId": "f0beda82-c1c4-426c-8157-e43af54f1c0e"
      },
      "execution_count": null,
      "outputs": [
        {
          "output_type": "display_data",
          "data": {
            "text/plain": [
              "<Figure size 432x288 with 1 Axes>"
            ],
            "image/png": "[encoded data removed]"
          },
          "metadata": {
            "needs_background": "light"
          }
        }
      ]
    },
    {
      "cell_type": "code",
      "source": [
        "#define metrics\n",
        "y_pred_proba = log_regression.predict_proba(X_test)[::,1]\n",
        "fpr, tpr, _ = metrics.roc_curve(y_test,  y_pred_proba)\n",
        "auc = metrics.roc_auc_score(y_test, y_pred_proba)\n",
        "\n",
        "const = 1.0818000000000012;\n",
        "t = np.linspace(0,1,20)\n",
        "x = np.pi*t - np.pi/2\n",
        "y = const + np.tan(x)\n",
        "z = 1/2 + 1/np.pi*np.arctan(y)\n",
        "auc2 = np.trapz(z,t)\n",
        "\n",
        "\n",
        "#create ROC curve\n",
        "plt.plot(fpr,tpr,label=\"AUC=\"+str(auc))\n",
        "plt.ylabel('True Positive Rate')\n",
        "plt.xlabel('False Positive Rate')\n",
        "#plt.plot(tpr, np.tan(tpr))\n",
        "plt.plot(t,z,label=\"AUC=\"+str(auc2))\n",
        "plt.legend(loc=4)\n",
        "plt.grid()\n",
        "plt.show()"
      ],
      "metadata": {
        "colab": {
          "base_uri": "https://localhost:8080/",
          "height": 278
        },
        "id": "8VPpz_CR-yMn",
        "outputId": "073744ce-38b8-45ff-96bc-90b31a9bb86c"
      },
      "execution_count": null,
      "outputs": [
        {
          "output_type": "display_data",
          "data": {
            "text/plain": [
              "<Figure size 432x288 with 1 Axes>"
            ],
            "image/png": "[encoded data removed]"
          },
          "metadata": {
            "needs_background": "light"
          }
        }
      ]
    }
  ]
}